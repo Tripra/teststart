{
 "cells": [
  {
   "cell_type": "code",
   "execution_count": 1,
   "id": "63344801",
   "metadata": {},
   "outputs": [
    {
     "name": "stdout",
     "output_type": "stream",
     "text": [
      "\"Hello Python\"\n"
     ]
    }
   ],
   "source": [
    "# Write a python program to print \"Hello Python\"\n",
    "print('\"Hello Python\"')"
   ]
  },
  {
   "cell_type": "code",
   "execution_count": 2,
   "id": "4c68fba1",
   "metadata": {},
   "outputs": [
    {
     "name": "stdout",
     "output_type": "stream",
     "text": [
      "28\n",
      "0.75\n"
     ]
    }
   ],
   "source": [
    "# Write a python program to do arithmetical operations addition and division.\n",
    "a=12\n",
    "b=16\n",
    "c=a+b\n",
    "d=a/b\n",
    "print(c)\n",
    "print(d)"
   ]
  },
  {
   "cell_type": "code",
   "execution_count": 3,
   "id": "d5f05b3d",
   "metadata": {},
   "outputs": [
    {
     "name": "stdout",
     "output_type": "stream",
     "text": [
      "39.68626966596886\n"
     ]
    }
   ],
   "source": [
    "#  Write a python program to find the area of a triangle.\n",
    "# sides of triangle a,b,c \n",
    "a=12\n",
    "b=10\n",
    "c=8\n",
    "s=(a+b+c)/2\n",
    "Area =(s*(s-a)*(s-b)*(s-c))**(1/2)\n",
    "print(Area)"
   ]
  },
  {
   "cell_type": "code",
   "execution_count": 4,
   "id": "600a0a1c",
   "metadata": {},
   "outputs": [
    {
     "name": "stdout",
     "output_type": "stream",
     "text": [
      "20 10\n"
     ]
    }
   ],
   "source": [
    " #Write a python program to swap to variable\n",
    "a=10\n",
    "b=20\n",
    "# Swaping with help of two variable\n",
    "c=a\n",
    "a=b\n",
    "b=c\n",
    "print(a,b)"
   ]
  },
  {
   "cell_type": "code",
   "execution_count": 10,
   "id": "ceec0205",
   "metadata": {},
   "outputs": [
    {
     "name": "stdout",
     "output_type": "stream",
     "text": [
      "297\n"
     ]
    }
   ],
   "source": [
    "#Write a python program to generate a random number\n",
    "import random\n",
    "random.seed()\n",
    "# print random number between 1to 1000\n",
    "print(random.randint(1,1000))\n"
   ]
  },
  {
   "cell_type": "code",
   "execution_count": null,
   "id": "7f375a81",
   "metadata": {},
   "outputs": [],
   "source": []
  }
 ],
 "metadata": {
  "kernelspec": {
   "display_name": "Python 3 (ipykernel)",
   "language": "python",
   "name": "python3"
  },
  "language_info": {
   "codemirror_mode": {
    "name": "ipython",
    "version": 3
   },
   "file_extension": ".py",
   "mimetype": "text/x-python",
   "name": "python",
   "nbconvert_exporter": "python",
   "pygments_lexer": "ipython3",
   "version": "3.9.12"
  }
 },
 "nbformat": 4,
 "nbformat_minor": 5
}
