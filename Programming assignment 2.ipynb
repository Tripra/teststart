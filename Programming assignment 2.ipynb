{
 "cells": [
  {
   "cell_type": "code",
   "execution_count": 26,
   "id": "8f482ba2",
   "metadata": {},
   "outputs": [
    {
     "name": "stdout",
     "output_type": "stream",
     "text": [
      "Enter kilometer  which want to change in miles 10\n",
      "6.21371\n"
     ]
    }
   ],
   "source": [
    " # Write a Python program to convert kilometers to miles\n",
    "  # Using conversion rate, 1km=.621371miles\n",
    "\n",
    "Kilometer=float(input(\"Enter kilometer  which want to change in miles \"))\n",
    "con_factor=0.621371\n",
    "miles=Kilometer*con_factor\n",
    "print(miles)"
   ]
  },
  {
   "cell_type": "code",
   "execution_count": 27,
   "id": "7ccecb57",
   "metadata": {},
   "outputs": [
    {
     "name": "stdout",
     "output_type": "stream",
     "text": [
      "Enter celsius which want to change in miles 37.5\n",
      "99.5\n"
     ]
    }
   ],
   "source": [
    "#Write a Python program to convert Celsius to Fahrenheit\n",
    "\n",
    "Celsius=float(input(\"Enter celsius which want to change in miles \"))\n",
    "\n",
    "## Conversion formula of celsius to fahrenheit\n",
    "Fahrenheit=(Celsius*1.8)+32\n",
    "print(Fahrenheit)"
   ]
  },
  {
   "cell_type": "code",
   "execution_count": 28,
   "id": "e9453ca9",
   "metadata": {},
   "outputs": [
    {
     "name": "stdout",
     "output_type": "stream",
     "text": [
      "Provide year 2022\n",
      "Provide month07\n",
      "     July 2022\n",
      "Mo Tu We Th Fr Sa Su\n",
      "             1  2  3\n",
      " 4  5  6  7  8  9 10\n",
      "11 12 13 14 15 16 17\n",
      "18 19 20 21 22 23 24\n",
      "25 26 27 28 29 30 31\n",
      "\n"
     ]
    }
   ],
   "source": [
    "#Write a Python program to display calendar\n",
    "## imorting calender module\n",
    "import calendar\n",
    "\n",
    "yyyy=int(input(\"Provide year \"))\n",
    "mm=int(input(\"Provide month\"))\n",
    "\n",
    "##display calendar\n",
    "print(calendar.month(yyyy,mm))"
   ]
  },
  {
   "cell_type": "code",
   "execution_count": 29,
   "id": "070fa3f5",
   "metadata": {},
   "outputs": [
    {
     "name": "stdout",
     "output_type": "stream",
     "text": [
      "Enter value fo coefficient2\n",
      "Enter value fo coefficient6\n",
      "Enter value fo coefficient2\n",
      "real and different roots\n",
      "-0.3819660112501051\n",
      "-2.618033988749895\n"
     ]
    }
   ],
   "source": [
    "#Write a Python program to solve quadratic equation\n",
    "## ax2+bx+c standard quadratic equation\n",
    "\n",
    "\n",
    "a=int(input(\"Enter value fo coefficient\"))\n",
    "b=int(input(\"Enter value fo coefficient\"))\n",
    "c=int(input(\"Enter value fo coefficient\"))\n",
    "\n",
    "# value of Discriminant\n",
    "d=((b*b)-(4*a*c))\n",
    "if d>0:\n",
    "    print(\"real and different roots\")\n",
    "    print((-b+(d**(1/2)))/(2*a))\n",
    "    print((-b-(d**(1/2)))/(2*a))\n",
    "elif d==0:\n",
    "    print(\"real and equal roots\")\n",
    "    print(-b/(2*a))\n",
    "else:\n",
    "    print(\"complex roots\")\n",
    "    print((- b / (2 * a)), \" + i\",(d**(1/2)/(2*a)))\n",
    "    print((- b / (2 * a)), \" - i\",(d**(1/2)/(2*a)))\n",
    "    "
   ]
  },
  {
   "cell_type": "code",
   "execution_count": 30,
   "id": "62cf87eb",
   "metadata": {},
   "outputs": [
    {
     "name": "stdout",
     "output_type": "stream",
     "text": [
      "Enter first variable 10\n",
      "Enter second variable 5\n",
      "5 10\n"
     ]
    }
   ],
   "source": [
    "#Write a Python program to swap two variables without temp variable\n",
    "a=int(input(\"Enter first variable \"))\n",
    "b=int(input(\"Enter second variable \"))\n",
    "a=a+b\n",
    "b=a-b\n",
    "a=a-b\n",
    "print(a,b)"
   ]
  },
  {
   "cell_type": "code",
   "execution_count": null,
   "id": "9488b6a0",
   "metadata": {},
   "outputs": [],
   "source": []
  }
 ],
 "metadata": {
  "kernelspec": {
   "display_name": "Python 3 (ipykernel)",
   "language": "python",
   "name": "python3"
  },
  "language_info": {
   "codemirror_mode": {
    "name": "ipython",
    "version": 3
   },
   "file_extension": ".py",
   "mimetype": "text/x-python",
   "name": "python",
   "nbconvert_exporter": "python",
   "pygments_lexer": "ipython3",
   "version": "3.9.12"
  }
 },
 "nbformat": 4,
 "nbformat_minor": 5
}
