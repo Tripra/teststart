{
 "cells": [
  {
   "cell_type": "code",
   "execution_count": 34,
   "id": "382ff10a",
   "metadata": {},
   "outputs": [
    {
     "name": "stdout",
     "output_type": "stream",
     "text": [
      "Enter the no :10\n",
      "Factorial is :3628800\n"
     ]
    }
   ],
   "source": [
    "#Write a Python Program to Find the Factorial of a Number\n",
    "\n",
    "N=int(input(\"Enter the no :\"))\n",
    "if N==0 or N==1:\n",
    "    print(\"Factorial is :\"+str(1))\n",
    "else:\n",
    "    Fact=1\n",
    "    for i in range(2,(N+1)):\n",
    "        Fact=Fact*i\n",
    "        \n",
    "        if i==N:\n",
    "            print(\"Factorial is :\"+str(Fact))"
   ]
  },
  {
   "cell_type": "code",
   "execution_count": 35,
   "id": "039ce5b7",
   "metadata": {},
   "outputs": [
    {
     "name": "stdout",
     "output_type": "stream",
     "text": [
      "Enter the of multiplication table :19\n",
      "19 x 1 = 19\n",
      "19 x 2 = 38\n",
      "19 x 3 = 57\n",
      "19 x 4 = 76\n",
      "19 x 5 = 95\n",
      "19 x 6 = 114\n",
      "19 x 7 = 133\n",
      "19 x 8 = 152\n",
      "19 x 9 = 171\n",
      "19 x 10 = 190\n"
     ]
    }
   ],
   "source": [
    "# Write a Python Program to Display the multiplication Table\n",
    "\n",
    "Num=int(input(\"Enter the of multiplication table :\"))\n",
    "for i in range(1,11):\n",
    "    \n",
    "    print(Num,'x',i,'=',Num*i)\n",
    "    "
   ]
  },
  {
   "cell_type": "code",
   "execution_count": 36,
   "id": "a8c5f3aa",
   "metadata": {},
   "outputs": [
    {
     "name": "stdout",
     "output_type": "stream",
     "text": [
      "Enter no of terms8\n",
      "0\n",
      "1\n",
      "1\n",
      "2\n",
      "3\n",
      "5\n",
      "8\n",
      "13\n"
     ]
    }
   ],
   "source": [
    "# Write a Python Program to Print the Fibonacci sequence\n",
    "\n",
    "terms=int(input(\"Enter no of terms\"))\n",
    "n1,n2=0,1\n",
    "count=0\n",
    "if terms<=0:\n",
    "    print(\"Fibonacci series not possible\")\n",
    "elif terms==1:\n",
    "    print(\"Fibonacci series is : \" +str(0))\n",
    "else:\n",
    "    while count<terms:\n",
    "        print(n1)\n",
    "        \n",
    "        n=n1+n2\n",
    "        n1=n2\n",
    "        n2=n\n",
    "        count+=1\n",
    "    "
   ]
  },
  {
   "cell_type": "code",
   "execution_count": 37,
   "id": "448f3c35",
   "metadata": {},
   "outputs": [
    {
     "name": "stdout",
     "output_type": "stream",
     "text": [
      "Enter number :153\n",
      "Given number is Armstrong \n"
     ]
    }
   ],
   "source": [
    "# Write a Python Program to Check Armstrong Number\n",
    "Num=int(input(\"Enter number :\"))\n",
    "L=len(str(Num))\n",
    "store=0\n",
    "\n",
    "if Num<0:\n",
    "    print(\"Given no is not armstrong\")\n",
    "else:    \n",
    "    Arm=Num\n",
    "    while Arm!=0:\n",
    "        digit=Arm%10\n",
    "        store=(digit**L)+store\n",
    "        Arm=Arm//10\n",
    "    \n",
    "    if store==Num:\n",
    "        print(\"Given number is Armstrong \")\n",
    "    else:\n",
    "        print(\"Given number is not Armstrong \")"
   ]
  },
  {
   "cell_type": "code",
   "execution_count": 30,
   "id": "d5501fe8",
   "metadata": {},
   "outputs": [
    {
     "name": "stdout",
     "output_type": "stream",
     "text": [
      "Enter lower limit :100\n",
      "Enter upper limit :10000\n",
      "153\n",
      "370\n",
      "371\n",
      "407\n",
      "1634\n",
      "8208\n",
      "9474\n"
     ]
    }
   ],
   "source": [
    "# Write a Python Program to Find Armstrong Number in an Interval\n",
    "L=int(input(\"Enter lower limit :\"))\n",
    "U=int(input(\"Enter upper limit :\"))\n",
    "for i in range(L,U):\n",
    "    m=i\n",
    "    l=len(str(i))\n",
    "    store=0\n",
    "    while m!=0:\n",
    "        digit=m%10\n",
    "        store=(digit**l)+store\n",
    "        m=m//10\n",
    "    if store==i:\n",
    "        print(i)\n",
    "    \n"
   ]
  },
  {
   "cell_type": "code",
   "execution_count": 40,
   "id": "7c5e438d",
   "metadata": {},
   "outputs": [
    {
     "name": "stdout",
     "output_type": "stream",
     "text": [
      "Enter the number upto which want to sum Number :50\n",
      "Sum of natural number up to 50 is :1275\n"
     ]
    }
   ],
   "source": [
    "# Write a Python Program to Find the Sum of Natural Numbers\n",
    "N=int(input(\"Enter the number upto which want to sum Number :\"))\n",
    "Sum=0\n",
    "for i in range(1,(N+1)):\n",
    "    Sum=Sum+i\n",
    "print(\"Sum of natural number up to\" ,N ,\"is :\" +str(Sum))    \n",
    "    "
   ]
  },
  {
   "cell_type": "code",
   "execution_count": null,
   "id": "836f3cb1",
   "metadata": {},
   "outputs": [],
   "source": []
  }
 ],
 "metadata": {
  "kernelspec": {
   "display_name": "Python 3 (ipykernel)",
   "language": "python",
   "name": "python3"
  },
  "language_info": {
   "codemirror_mode": {
    "name": "ipython",
    "version": 3
   },
   "file_extension": ".py",
   "mimetype": "text/x-python",
   "name": "python",
   "nbconvert_exporter": "python",
   "pygments_lexer": "ipython3",
   "version": "3.9.12"
  }
 },
 "nbformat": 4,
 "nbformat_minor": 5
}
